{
  "nbformat": 4,
  "nbformat_minor": 0,
  "metadata": {
    "colab": {
      "name": "COVID-19_Detector.ipynb",
      "provenance": [],
      "collapsed_sections": [],
      "include_colab_link": true
    },
    "kernelspec": {
      "name": "python3",
      "display_name": "Python 3"
    },
    "accelerator": "GPU"
  },
  "cells": [
    {
      "cell_type": "markdown",
      "metadata": {
        "id": "view-in-github",
        "colab_type": "text"
      },
      "source": [
        "<a href=\"https://colab.research.google.com/github/ArabianHindi/E-Commerce-Next.js/blob/main/COVID_19_Detector.ipynb\" target=\"_parent\"><img src=\"https://colab.research.google.com/assets/colab-badge.svg\" alt=\"Open In Colab\"/></a>"
      ]
    },
    {
      "cell_type": "code",
      "source": [
        "# If you have the .h5 file run this block to Recreate the exact same model,without the need to retrain it\n",
        "\n",
        "new_model = tensorflow.keras.models.load_model('Covid19Detector (Final).h5')\n",
        "\n",
        "new_model.summary()"
      ],
      "metadata": {
        "id": "MLQIPFCVlI9e",
        "colab": {
          "base_uri": "https://localhost:8080/"
        },
        "outputId": "dadedfe2-6f53-48ce-e530-761d4dc6d217"
      },
      "execution_count": null,
      "outputs": [
        {
          "output_type": "stream",
          "name": "stdout",
          "text": [
            "Model: \"CNN_COVID_19\"\n",
            "_________________________________________________________________\n",
            " Layer (type)                Output Shape              Param #   \n",
            "=================================================================\n",
            " img_input (InputLayer)      [(None, 224, 224, 3)]     0         \n",
            "                                                                 \n",
            " layer_1 (Conv2D)            (None, 224, 224, 32)      896       \n",
            "                                                                 \n",
            " layer_2 (Conv2D)            (None, 224, 224, 64)      18496     \n",
            "                                                                 \n",
            " layer_3 (MaxPooling2D)      (None, 112, 112, 64)      0         \n",
            "                                                                 \n",
            " dropout (Dropout)           (None, 112, 112, 64)      0         \n",
            "                                                                 \n",
            " layer_4 (Conv2D)            (None, 112, 112, 64)      36928     \n",
            "                                                                 \n",
            " layer_5 (MaxPooling2D)      (None, 56, 56, 64)        0         \n",
            "                                                                 \n",
            " dropout_1 (Dropout)         (None, 56, 56, 64)        0         \n",
            "                                                                 \n",
            " layer_6 (Conv2D)            (None, 56, 56, 128)       73856     \n",
            "                                                                 \n",
            " layer_7 (MaxPooling2D)      (None, 28, 28, 128)       0         \n",
            "                                                                 \n",
            " dropout_2 (Dropout)         (None, 28, 28, 128)       0         \n",
            "                                                                 \n",
            " fc_1 (Flatten)              (None, 100352)            0         \n",
            "                                                                 \n",
            " lyaer_8 (Dense)             (None, 64)                6422592   \n",
            "                                                                 \n",
            " dropout_3 (Dropout)         (None, 64)                0         \n",
            "                                                                 \n",
            " predictions (Dense)         (None, 2)                 130       \n",
            "                                                                 \n",
            "=================================================================\n",
            "Total params: 6,552,898\n",
            "Trainable params: 6,552,898\n",
            "Non-trainable params: 0\n",
            "_________________________________________________________________\n"
          ]
        }
      ]
    },
    {
      "cell_type": "code",
      "metadata": {
        "id": "DkJs6zvM7og3",
        "colab": {
          "base_uri": "https://localhost:8080/"
        },
        "outputId": "244e3b2c-1f28-46f8-973f-4661369c6c84"
      },
      "source": [
        "# Upload google drive in our COLAB\n",
        "\n",
        "from google.colab import drive\n",
        "drive.mount('/content/drive')"
      ],
      "execution_count": null,
      "outputs": [
        {
          "output_type": "stream",
          "name": "stdout",
          "text": [
            "Mounted at /content/drive\n"
          ]
        }
      ]
    },
    {
      "cell_type": "code",
      "metadata": {
        "id": "o1F_l7gz8_y5"
      },
      "source": [
        "# install tensorflow version 2\n",
        "%tensorflow_version 2.x\n"
      ],
      "execution_count": null,
      "outputs": []
    },
    {
      "cell_type": "code",
      "metadata": {
        "id": "_cNzojt09OoX"
      },
      "source": [
        "# Importing library\n",
        "\n",
        "import os\n",
        "import cv2\n",
        "import tensorflow.keras\n",
        "from tensorflow.keras.models import Model\n",
        "from tensorflow.keras.layers import Input, Dense, Activation, Flatten, Conv2D, MaxPool2D, Dropout\n",
        "from tensorflow.keras.optimizers import Adam \n",
        "from tensorflow.keras.preprocessing.image import ImageDataGenerator\n",
        "from tensorflow.keras.losses import binary_crossentropy\n",
        "from tensorflow.keras import metrics\n",
        "import matplotlib.pyplot as plt\n",
        "from sklearn.metrics import classification_report, confusion_matrix, plot_confusion_matrix, ConfusionMatrixDisplay\n",
        "import numpy as np\n",
        "from google.colab.patches import cv2_imshow"
      ],
      "execution_count": null,
      "outputs": []
    },
    {
      "cell_type": "code",
      "metadata": {
        "id": "3k-KAqd7KvHa"
      },
      "source": [
        "# Create path\n",
        "\n",
        "train_loc = '/content/drive/My Drive/Dataset/train/'\n",
        "test_loc = '/content/drive/My Drive/Dataset/val/'"
      ],
      "execution_count": null,
      "outputs": []
    },
    {
      "cell_type": "code",
      "metadata": {
        "id": "EC1fsx7htAeC",
        "colab": {
          "base_uri": "https://localhost:8080/"
        },
        "outputId": "e6186673-c116-4395-d70b-c53803852117"
      },
      "source": [
        "# Preprocessing\n",
        "\n",
        "trdata = ImageDataGenerator(rescale= 1./255,\n",
        "                            shear_range = 0.2,\n",
        "                            zoom_range = 0.2,\n",
        "                            width_shift_range=0.2,\n",
        "                            height_shift_range=0.2,\n",
        "                            horizontal_flip = True,\n",
        ")\n",
        "\n",
        "traindata = trdata.flow_from_directory(directory = train_loc, target_size = (224,224))\n",
        "\n",
        "tsdata = ImageDataGenerator(rescale= 1./255,\n",
        "                            shear_range = 0.2,\n",
        "                            zoom_range = 0.2,\n",
        "                            width_shift_range=0.2,\n",
        "                            height_shift_range=0.2,\n",
        "                            horizontal_flip = True,\n",
        ")\n",
        "\n",
        "testdata = tsdata.flow_from_directory(directory = test_loc, target_size = (224,224))"
      ],
      "execution_count": null,
      "outputs": [
        {
          "output_type": "stream",
          "name": "stdout",
          "text": [
            "Found 250 images belonging to 2 classes.\n",
            "Found 110 images belonging to 2 classes.\n"
          ]
        }
      ]
    },
    {
      "cell_type": "code",
      "metadata": {
        "id": "ZDtu3ZOCusKp"
      },
      "source": [
        "#Classifying the Outputs\n",
        "\n",
        "traindata.class_indices\n",
        "class_names = ['Covid','Non-Covid']"
      ],
      "execution_count": null,
      "outputs": []
    },
    {
      "cell_type": "code",
      "metadata": {
        "id": "Wm6wOtr2rqlf"
      },
      "source": [
        "# define input image\n",
        "input_shape = (224,224,3)\n",
        "\n",
        "# create the Network\n",
        "# Input layer\n",
        "img_imput = Input(shape  = input_shape, name = 'img_input')\n",
        "\n",
        "# Convo layers\n",
        "x = Conv2D(32, (3,3) , padding = 'same' , activation='relu', name = 'layer_1') (img_imput)\n",
        "x = Conv2D(64, (3,3) , padding = 'same' , activation='relu', name = 'layer_2') (x)\n",
        "x = MaxPool2D((2,2), strides=(2,2), name = 'layer_3') (x)\n",
        "x = Dropout(0.25)(x)\n",
        "\n",
        "x = Conv2D(64, (3,3) , padding = 'same' , activation='relu', name = 'layer_4') (x)\n",
        "x = MaxPool2D((2,2), strides=(2,2), name = 'layer_5') (x)\n",
        "x = Dropout(0.25)(x)\n",
        "\n",
        "x = Conv2D(128, (3,3) , padding = 'same' , activation='relu', name = 'layer_6') (x)\n",
        "x = MaxPool2D((2,2), strides=(2,2), name = 'layer_7') (x)\n",
        "x = Dropout(0.25)(x)\n",
        "\n",
        "x = Flatten(name = 'fc_1')(x)\n",
        "x= Dense(64, name = 'lyaer_8')(x)\n",
        "x = Dropout(0.5) (x)\n",
        "x = Dense(2, activation='sigmoid', name='predictions')(x)\n"
      ],
      "execution_count": null,
      "outputs": []
    },
    {
      "cell_type": "code",
      "metadata": {
        "id": "w6tNCpljC2y9"
      },
      "source": [
        "# Generate the model\n",
        "model = Model(inputs = img_imput, outputs =x , name='CNN_COVID_19')"
      ],
      "execution_count": null,
      "outputs": []
    },
    {
      "cell_type": "code",
      "metadata": {
        "id": "GqI1sriXDUZl",
        "colab": {
          "base_uri": "https://localhost:8080/"
        },
        "outputId": "1cc80f41-9812-4a79-b365-a83dc8efed41"
      },
      "source": [
        "# Print network structure\n",
        "model.summary()"
      ],
      "execution_count": null,
      "outputs": [
        {
          "output_type": "stream",
          "name": "stdout",
          "text": [
            "Model: \"CNN_COVID_19\"\n",
            "_________________________________________________________________\n",
            " Layer (type)                Output Shape              Param #   \n",
            "=================================================================\n",
            " img_input (InputLayer)      [(None, 224, 224, 3)]     0         \n",
            "                                                                 \n",
            " layer_1 (Conv2D)            (None, 224, 224, 32)      896       \n",
            "                                                                 \n",
            " layer_2 (Conv2D)            (None, 224, 224, 64)      18496     \n",
            "                                                                 \n",
            " layer_3 (MaxPooling2D)      (None, 112, 112, 64)      0         \n",
            "                                                                 \n",
            " dropout (Dropout)           (None, 112, 112, 64)      0         \n",
            "                                                                 \n",
            " layer_4 (Conv2D)            (None, 112, 112, 64)      36928     \n",
            "                                                                 \n",
            " layer_5 (MaxPooling2D)      (None, 56, 56, 64)        0         \n",
            "                                                                 \n",
            " dropout_1 (Dropout)         (None, 56, 56, 64)        0         \n",
            "                                                                 \n",
            " layer_6 (Conv2D)            (None, 56, 56, 128)       73856     \n",
            "                                                                 \n",
            " layer_7 (MaxPooling2D)      (None, 28, 28, 128)       0         \n",
            "                                                                 \n",
            " dropout_2 (Dropout)         (None, 28, 28, 128)       0         \n",
            "                                                                 \n",
            " fc_1 (Flatten)              (None, 100352)            0         \n",
            "                                                                 \n",
            " lyaer_8 (Dense)             (None, 64)                6422592   \n",
            "                                                                 \n",
            " dropout_3 (Dropout)         (None, 64)                0         \n",
            "                                                                 \n",
            " predictions (Dense)         (None, 2)                 130       \n",
            "                                                                 \n",
            "=================================================================\n",
            "Total params: 6,552,898\n",
            "Trainable params: 6,552,898\n",
            "Non-trainable params: 0\n",
            "_________________________________________________________________\n"
          ]
        }
      ]
    },
    {
      "cell_type": "code",
      "metadata": {
        "id": "5pd2mB0_E17s"
      },
      "source": [
        "# Compiling the model\n",
        "model.compile(optimizer='adam', loss=binary_crossentropy, metrics=['accuracy'])"
      ],
      "execution_count": null,
      "outputs": []
    },
    {
      "cell_type": "code",
      "metadata": {
        "id": "DDbX-f48S6kN",
        "colab": {
          "base_uri": "https://localhost:8080/"
        },
        "outputId": "1884c185-54d7-41bf-bb18-14a638833b83"
      },
      "source": [
        "# start Train/Test\n",
        "batch_size = 32\n",
        "hist = model.fit(traindata, steps_per_epoch = traindata.samples//batch_size,\n",
        "                 validation_data = testdata,validation_steps = testdata.samples//batch_size,\n",
        "                 epochs = 20\n",
        "                 )"
      ],
      "execution_count": null,
      "outputs": [
        {
          "output_type": "stream",
          "name": "stdout",
          "text": [
            "Epoch 1/20\n",
            "7/7 [==============================] - 65s 8s/step - loss: 2.2028 - accuracy: 0.5734 - val_loss: 0.6856 - val_accuracy: 0.5000\n",
            "Epoch 2/20\n",
            "7/7 [==============================] - 11s 2s/step - loss: 0.6271 - accuracy: 0.6881 - val_loss: 0.5909 - val_accuracy: 0.7396\n",
            "Epoch 3/20\n",
            "7/7 [==============================] - 12s 2s/step - loss: 0.4154 - accuracy: 0.8394 - val_loss: 0.3731 - val_accuracy: 0.8750\n",
            "Epoch 4/20\n",
            "7/7 [==============================] - 11s 2s/step - loss: 0.3701 - accuracy: 0.8670 - val_loss: 0.2612 - val_accuracy: 0.9479\n",
            "Epoch 5/20\n",
            "7/7 [==============================] - 11s 2s/step - loss: 0.3207 - accuracy: 0.8705 - val_loss: 0.3048 - val_accuracy: 0.9375\n",
            "Epoch 6/20\n",
            "7/7 [==============================] - 11s 2s/step - loss: 0.2437 - accuracy: 0.8991 - val_loss: 0.2154 - val_accuracy: 0.9479\n",
            "Epoch 7/20\n",
            "7/7 [==============================] - 12s 2s/step - loss: 0.3252 - accuracy: 0.8853 - val_loss: 0.2963 - val_accuracy: 0.9479\n",
            "Epoch 8/20\n",
            "7/7 [==============================] - 11s 2s/step - loss: 0.2224 - accuracy: 0.9312 - val_loss: 0.3096 - val_accuracy: 0.8854\n",
            "Epoch 9/20\n",
            "7/7 [==============================] - 12s 2s/step - loss: 0.2694 - accuracy: 0.9037 - val_loss: 0.2917 - val_accuracy: 0.9167\n",
            "Epoch 10/20\n",
            "7/7 [==============================] - 11s 2s/step - loss: 0.2366 - accuracy: 0.9128 - val_loss: 0.1720 - val_accuracy: 0.9792\n",
            "Epoch 11/20\n",
            "7/7 [==============================] - 11s 2s/step - loss: 0.1860 - accuracy: 0.9266 - val_loss: 0.2606 - val_accuracy: 0.9167\n",
            "Epoch 12/20\n",
            "7/7 [==============================] - 11s 2s/step - loss: 0.2733 - accuracy: 0.8945 - val_loss: 0.2520 - val_accuracy: 0.9271\n",
            "Epoch 13/20\n",
            "7/7 [==============================] - 11s 2s/step - loss: 0.2191 - accuracy: 0.9107 - val_loss: 0.2092 - val_accuracy: 0.9479\n",
            "Epoch 14/20\n",
            "7/7 [==============================] - 12s 2s/step - loss: 0.2280 - accuracy: 0.9220 - val_loss: 0.2691 - val_accuracy: 0.8958\n",
            "Epoch 15/20\n",
            "7/7 [==============================] - 11s 2s/step - loss: 0.1627 - accuracy: 0.9220 - val_loss: 0.1749 - val_accuracy: 0.9062\n",
            "Epoch 16/20\n",
            "7/7 [==============================] - 11s 2s/step - loss: 0.1900 - accuracy: 0.9107 - val_loss: 0.1728 - val_accuracy: 0.9583\n",
            "Epoch 17/20\n",
            "7/7 [==============================] - 11s 2s/step - loss: 0.2368 - accuracy: 0.9128 - val_loss: 0.1898 - val_accuracy: 0.9271\n",
            "Epoch 18/20\n",
            "7/7 [==============================] - 12s 2s/step - loss: 0.2502 - accuracy: 0.9220 - val_loss: 0.1780 - val_accuracy: 0.9375\n",
            "Epoch 19/20\n",
            "7/7 [==============================] - 11s 2s/step - loss: 0.1962 - accuracy: 0.9358 - val_loss: 0.2660 - val_accuracy: 0.9271\n",
            "Epoch 20/20\n",
            "7/7 [==============================] - 12s 2s/step - loss: 0.2314 - accuracy: 0.9128 - val_loss: 0.1890 - val_accuracy: 0.9167\n"
          ]
        }
      ]
    },
    {
      "cell_type": "code",
      "metadata": {
        "id": "zN1W4RqGc4mn",
        "colab": {
          "base_uri": "https://localhost:8080/",
          "height": 281
        },
        "outputId": "9155d289-b50b-4818-f1c2-9fa108012aef"
      },
      "source": [
        "plt.plot(hist.history['loss'], label = 'train')\n",
        "plt.plot(hist.history['val_loss'], label = 'val')\n",
        "plt.title('CNN_COVID_19 :  Loss  &  Validation Loss')\n",
        "plt.legend()\n",
        "plt.show()"
      ],
      "execution_count": null,
      "outputs": [
        {
          "output_type": "display_data",
          "data": {
            "text/plain": [
              "<Figure size 432x288 with 1 Axes>"
            ],
            "image/png": "[encoded data removed]"
          },
          "metadata": {
            "needs_background": "light"
          }
        }
      ]
    },
    {
      "cell_type": "code",
      "metadata": {
        "id": "KQiOkEcad_4X",
        "colab": {
          "base_uri": "https://localhost:8080/",
          "height": 281
        },
        "outputId": "8d85c0f3-c9d8-40db-fdb4-0966956df862"
      },
      "source": [
        "plt.plot(hist.history['accuracy'], label = 'train')\n",
        "plt.plot(hist.history['val_accuracy'], label = 'val')\n",
        "plt.title('CNN_COVID_19 :  Accuracy  &  Validation Accuracy')\n",
        "plt.legend()\n",
        "plt.show()"
      ],
      "execution_count": null,
      "outputs": [
        {
          "output_type": "display_data",
          "data": {
            "text/plain": [
              "<Figure size 432x288 with 1 Axes>"
            ],
            "image/png": "[encoded data removed]"
          },
          "metadata": {
            "needs_background": "light"
          }
        }
      ]
    },
    {
      "cell_type": "code",
      "metadata": {
        "id": "QgVsbP3Ktvwu",
        "colab": {
          "base_uri": "https://localhost:8080/",
          "height": 563
        },
        "outputId": "e7af62a8-cd2a-4f20-d44c-f3025eaaea1a"
      },
      "source": [
        "# Confusion Matrix  & Pres  & Recall   & F1-Score\n",
        "\n",
        "target_names = ['COVID+', 'COVID-']\n",
        "label_names = [0,1]\n",
        "\n",
        "Y_pred = model.predict_generator(testdata)\n",
        "y_pred = np.argmax(Y_pred ,  axis = 1)\n",
        "\n",
        "cm = confusion_matrix(testdata.classes, y_pred, labels = label_names)\n",
        "\n",
        "\n",
        "print('Confusion Matrix')\n",
        "print(confusion_matrix(testdata.classes, y_pred))\n",
        "\n",
        "print('classification_Report')\n",
        "print(classification_report(testdata.classes, y_pred, target_names=target_names))\n",
        "\n",
        "disp = ConfusionMatrixDisplay(confusion_matrix= cm, display_labels=target_names)\n",
        "disp = disp.plot(cmap=plt.cm.Blues, values_format = 'g')\n",
        "plt.show()\n"
      ],
      "execution_count": null,
      "outputs": [
        {
          "output_type": "stream",
          "name": "stderr",
          "text": [
            "/usr/local/lib/python3.7/dist-packages/ipykernel_launcher.py:6: UserWarning: `Model.predict_generator` is deprecated and will be removed in a future version. Please use `Model.predict`, which supports generators.\n",
            "  \n"
          ]
        },
        {
          "output_type": "stream",
          "name": "stdout",
          "text": [
            "Confusion Matrix\n",
            "[[24 31]\n",
            " [30 25]]\n",
            "classification_Report\n",
            "              precision    recall  f1-score   support\n",
            "\n",
            "      COVID+       0.44      0.44      0.44        55\n",
            "      COVID-       0.45      0.45      0.45        55\n",
            "\n",
            "    accuracy                           0.45       110\n",
            "   macro avg       0.45      0.45      0.45       110\n",
            "weighted avg       0.45      0.45      0.45       110\n",
            "\n"
          ]
        },
        {
          "output_type": "display_data",
          "data": {
            "text/plain": [
              "<Figure size 432x288 with 2 Axes>"
            ],
            "image/png": "[encoded data removed]"
          },
          "metadata": {
            "needs_background": "light"
          }
        }
      ]
    },
    {
      "cell_type": "code",
      "source": [
        "# View X-Ray Scans Paths from Drive Directory\n",
        "\n",
        "IMAGE_SIZE = (224,224)\n",
        "DIR_NAME = '/content/drive/My Drive/Dataset/val/'\n",
        "IMAGE_DIR = DIR_NAME + 'normal/'\n",
        "imagePaths=[]\n",
        "for dirname, _, filenames in os.walk(DIR_NAME):\n",
        "    for filename in filenames:\n",
        "      imagePaths.append(os.path.join(dirname, filename))"
      ],
      "metadata": {
        "id": "rObHhqqKHOu9"
      },
      "execution_count": null,
      "outputs": []
    },
    {
      "cell_type": "code",
      "source": [
        "imagePaths"
      ],
      "metadata": {
        "colab": {
          "base_uri": "https://localhost:8080/"
        },
        "id": "_cOnKxXBIWfg",
        "outputId": "c727f70b-e3c9-4bab-cbf2-e45b180df22c"
      },
      "execution_count": null,
      "outputs": [
        {
          "output_type": "execute_result",
          "data": {
            "text/plain": [
              "['/content/drive/My Drive/Dataset/val/COVID-/IM-0125-0001.jpeg',\n",
              " '/content/drive/My Drive/Dataset/val/COVID-/IM-0122-0001.jpeg',\n",
              " '/content/drive/My Drive/Dataset/val/COVID-/IM-0149-0001.jpeg',\n",
              " '/content/drive/My Drive/Dataset/val/COVID-/IM-0151-0001.jpeg',\n",
              " '/content/drive/My Drive/Dataset/val/COVID-/IM-0147-0001.jpeg',\n",
              " '/content/drive/My Drive/Dataset/val/COVID-/IM-0166-0001.jpeg',\n",
              " '/content/drive/My Drive/Dataset/val/COVID-/IM-0176-0001.jpeg',\n",
              " '/content/drive/My Drive/Dataset/val/COVID-/IM-0137-0001.jpeg',\n",
              " '/content/drive/My Drive/Dataset/val/COVID-/IM-0141-0001.jpeg',\n",
              " '/content/drive/My Drive/Dataset/val/COVID-/IM-0168-0001.jpeg',\n",
              " '/content/drive/My Drive/Dataset/val/COVID-/IM-0236-0001.jpeg',\n",
              " '/content/drive/My Drive/Dataset/val/COVID-/IM-0213-0001.jpeg',\n",
              " '/content/drive/My Drive/Dataset/val/COVID-/IM-0229-0001.jpeg',\n",
              " '/content/drive/My Drive/Dataset/val/COVID-/IM-0211-0001.jpeg',\n",
              " '/content/drive/My Drive/Dataset/val/COVID-/IM-0214-0001.jpeg',\n",
              " '/content/drive/My Drive/Dataset/val/COVID-/IM-0201-0001.jpeg',\n",
              " '/content/drive/My Drive/Dataset/val/COVID-/IM-0237-0001.jpeg',\n",
              " '/content/drive/My Drive/Dataset/val/COVID-/IM-0225-0001.jpeg',\n",
              " '/content/drive/My Drive/Dataset/val/COVID-/IM-0199-0001.jpeg',\n",
              " '/content/drive/My Drive/Dataset/val/COVID-/IM-0261-0001.jpeg',\n",
              " '/content/drive/My Drive/Dataset/val/COVID-/IM-0257-0001.jpeg',\n",
              " '/content/drive/My Drive/Dataset/val/COVID-/IM-0242-0001.jpeg',\n",
              " '/content/drive/My Drive/Dataset/val/COVID-/IM-0272-0001.jpeg',\n",
              " '/content/drive/My Drive/Dataset/val/COVID-/IM-0283-0001.jpeg',\n",
              " '/content/drive/My Drive/Dataset/val/COVID-/IM-0244-0001.jpeg',\n",
              " '/content/drive/My Drive/Dataset/val/COVID-/IM-0243-0001.jpeg',\n",
              " '/content/drive/My Drive/Dataset/val/COVID-/IM-0275-0001.jpeg',\n",
              " '/content/drive/My Drive/Dataset/val/COVID-/IM-0277-0001.jpeg',\n",
              " '/content/drive/My Drive/Dataset/val/COVID-/IM-0276-0001.jpeg',\n",
              " '/content/drive/My Drive/Dataset/val/COVID-/IM-0264-0001.jpeg',\n",
              " '/content/drive/My Drive/Dataset/val/COVID-/IM-0265-0001.jpeg',\n",
              " '/content/drive/My Drive/Dataset/val/COVID-/IM-0278-0001.jpeg',\n",
              " '/content/drive/My Drive/Dataset/val/COVID-/IM-0251-0001.jpeg',\n",
              " '/content/drive/My Drive/Dataset/val/COVID-/IM-0274-0001.jpeg',\n",
              " '/content/drive/My Drive/Dataset/val/COVID-/IM-0286-0001.jpeg',\n",
              " '/content/drive/My Drive/Dataset/val/COVID-/IM-0313-0001.jpeg',\n",
              " '/content/drive/My Drive/Dataset/val/COVID-/IM-0314-0001.jpeg',\n",
              " '/content/drive/My Drive/Dataset/val/COVID-/IM-0292-0001.jpeg',\n",
              " '/content/drive/My Drive/Dataset/val/COVID-/IM-0307-0001.jpeg',\n",
              " '/content/drive/My Drive/Dataset/val/COVID-/IM-0319-0001.jpeg',\n",
              " '/content/drive/My Drive/Dataset/val/COVID-/IM-0315-0001.jpeg',\n",
              " '/content/drive/My Drive/Dataset/val/COVID-/IM-0294-0001.jpeg',\n",
              " '/content/drive/My Drive/Dataset/val/COVID-/IM-0343-0001.jpeg',\n",
              " '/content/drive/My Drive/Dataset/val/COVID-/IM-0327-0001.jpeg',\n",
              " '/content/drive/My Drive/Dataset/val/COVID-/IM-0367-0001.jpeg',\n",
              " '/content/drive/My Drive/Dataset/val/COVID-/IM-0365-0001.jpeg',\n",
              " '/content/drive/My Drive/Dataset/val/COVID-/IM-0330-0001.jpeg',\n",
              " '/content/drive/My Drive/Dataset/val/COVID-/IM-0361-0001.jpeg',\n",
              " '/content/drive/My Drive/Dataset/val/COVID-/IM-0339-0001.jpeg',\n",
              " '/content/drive/My Drive/Dataset/val/COVID-/IM-0331-0001.jpeg',\n",
              " '/content/drive/My Drive/Dataset/val/COVID-/IM-0358-0001.jpeg',\n",
              " '/content/drive/My Drive/Dataset/val/COVID-/IM-0348-0001.jpeg',\n",
              " '/content/drive/My Drive/Dataset/val/COVID-/IM-0333-0001.jpeg',\n",
              " '/content/drive/My Drive/Dataset/val/COVID-/IM-0335-0001.jpeg',\n",
              " '/content/drive/My Drive/Dataset/val/COVID-/IM-0368-0001.jpeg',\n",
              " '/content/drive/My Drive/Dataset/val/COVID+/kjr-21-e25-g001-l-a.jpg',\n",
              " '/content/drive/My Drive/Dataset/val/COVID+/covid-19-caso-95-1-15.png',\n",
              " '/content/drive/My Drive/Dataset/val/COVID+/auntminnie-d-2020_01_28_23_51_6665_2020_01_28_Vietnam_coronavirus.jpeg',\n",
              " '/content/drive/My Drive/Dataset/val/COVID+/figure1-5e75d0940b71e1b702629659-98-right.jpeg',\n",
              " '/content/drive/My Drive/Dataset/val/COVID+/12941_2020_358_Fig1_HTML.jpg',\n",
              " '/content/drive/My Drive/Dataset/val/COVID+/covid-19-pneumonia-93.png',\n",
              " '/content/drive/My Drive/Dataset/val/COVID+/f8335316.jpg',\n",
              " '/content/drive/My Drive/Dataset/val/COVID+/bb0e626a.jpg',\n",
              " '/content/drive/My Drive/Dataset/val/COVID+/c3829ecb.jpg',\n",
              " '/content/drive/My Drive/Dataset/val/COVID+/16747_1_1.jpg',\n",
              " '/content/drive/My Drive/Dataset/val/COVID+/all14238-fig-0001-m-b.jpg',\n",
              " '/content/drive/My Drive/Dataset/val/COVID+/1.CXRCTThoraximagesofCOVID-19fromSingapore.pdf-001-fig2b.png',\n",
              " '/content/drive/My Drive/Dataset/val/COVID+/a8ac1969.jpg',\n",
              " '/content/drive/My Drive/Dataset/val/COVID+/82a78c13.jpg',\n",
              " '/content/drive/My Drive/Dataset/val/COVID+/tpmd200203f2-c.png',\n",
              " '/content/drive/My Drive/Dataset/val/COVID+/4e43e48d52c9e2d4c6c1fb9bc1544f_jumbo.jpeg',\n",
              " '/content/drive/My Drive/Dataset/val/COVID+/nejmc2001573_f1a.jpeg',\n",
              " '/content/drive/My Drive/Dataset/val/COVID+/7AF6C1AF-D249-4BD2-8C26-449304105D03.jpeg',\n",
              " '/content/drive/My Drive/Dataset/val/COVID+/ryct.2020200028.fig1a.jpeg',\n",
              " '/content/drive/My Drive/Dataset/val/COVID+/88de9d8c39e946abd495b37cd07d89e5-2ee6-0.jpg',\n",
              " '/content/drive/My Drive/Dataset/val/COVID+/CD50BA96-6982-4C80-AE7B-5F67ACDBFA56.jpeg',\n",
              " '/content/drive/My Drive/Dataset/val/COVID+/7-fatal-covid19.jpg',\n",
              " '/content/drive/My Drive/Dataset/val/COVID+/1-s2.0-S0140673620303706-fx1_lrg.jpg',\n",
              " '/content/drive/My Drive/Dataset/val/COVID+/e1446fe8.jpg',\n",
              " '/content/drive/My Drive/Dataset/val/COVID+/ae6c954c0039de4b5edee53865ffee43-e6c8-0.jpg',\n",
              " '/content/drive/My Drive/Dataset/val/COVID+/3b46de94.jpg',\n",
              " '/content/drive/My Drive/Dataset/val/COVID+/2cd63b76.jpg',\n",
              " '/content/drive/My Drive/Dataset/val/COVID+/93FE0BB1-022D-4F24-9727-987A07975FFB.jpeg',\n",
              " '/content/drive/My Drive/Dataset/val/COVID+/1-s2.0-S2387020620301959-gr4_lrg-c.png',\n",
              " '/content/drive/My Drive/Dataset/val/COVID+/1.CXRCTThoraximagesofCOVID-19fromSingapore.pdf-002-fig3a.png',\n",
              " '/content/drive/My Drive/Dataset/val/COVID+/a361d7b7.jpg',\n",
              " '/content/drive/My Drive/Dataset/val/COVID+/FE9F9A5D-2830-46F9-851B-1FF4534959BE.jpeg',\n",
              " '/content/drive/My Drive/Dataset/val/COVID+/5f619d7e.jpg',\n",
              " '/content/drive/My Drive/Dataset/val/COVID+/auntminnie-a-2020_01_28_23_51_6665_2020_01_28_Vietnam_coronavirus.jpeg',\n",
              " '/content/drive/My Drive/Dataset/val/COVID+/ryct.2020200034.fig5-day0.jpeg',\n",
              " '/content/drive/My Drive/Dataset/val/COVID+/1141cc2b8b9cc394becce5d978b5a7_jumbo.jpeg',\n",
              " '/content/drive/My Drive/Dataset/val/COVID+/16660_1_1.jpg',\n",
              " '/content/drive/My Drive/Dataset/val/COVID+/covid-19-pneumonia-evolution-over-a-week-1-day0-PA.jpg',\n",
              " '/content/drive/My Drive/Dataset/val/COVID+/1.CXRCTThoraximagesofCOVID-19fromSingapore.pdf-001-fig2a.png',\n",
              " '/content/drive/My Drive/Dataset/val/COVID+/b0f1684d1ee90dc09deef015e29dae_jumbo.jpeg',\n",
              " '/content/drive/My Drive/Dataset/val/COVID+/b9673e89.jpg',\n",
              " '/content/drive/My Drive/Dataset/val/COVID+/19abe1f3.jpg',\n",
              " '/content/drive/My Drive/Dataset/val/COVID+/tpmd200203f2-b.png',\n",
              " '/content/drive/My Drive/Dataset/val/COVID+/f64132c8.jpg',\n",
              " '/content/drive/My Drive/Dataset/val/COVID+/auntminnie-c-2020_01_28_23_51_6665_2020_01_28_Vietnam_coronavirus.jpeg',\n",
              " '/content/drive/My Drive/Dataset/val/COVID+/353889E0-A1E8-4F9E-A0B8-F24F36BCFBFB.jpeg',\n",
              " '/content/drive/My Drive/Dataset/val/COVID+/covid-19-pneumonia-35-2.jpg',\n",
              " '/content/drive/My Drive/Dataset/val/COVID+/1-s2.0-S1684118220300608-main.pdf-001.jpg',\n",
              " '/content/drive/My Drive/Dataset/val/COVID+/extubation-8.jpg',\n",
              " '/content/drive/My Drive/Dataset/val/COVID+/covid-19-pneumonia-8.jpg',\n",
              " '/content/drive/My Drive/Dataset/val/COVID+/f6575117.jpg',\n",
              " '/content/drive/My Drive/Dataset/val/COVID+/covid-19-caso-91-1-12.png',\n",
              " '/content/drive/My Drive/Dataset/val/COVID+/1-s2.0-S2214250920300834-gr1_lrg-c.png',\n",
              " '/content/drive/My Drive/Dataset/val/COVID+/yxppt-2020-02-19_00-51-27_287214-day8.jpg',\n",
              " '/content/drive/My Drive/Dataset/val/COVID+/88de9d8c39e946abd495b37cd07d89e5-6531-0.jpg']"
            ]
          },
          "metadata": {},
          "execution_count": 16
        }
      ]
    },
    {
      "cell_type": "code",
      "metadata": {
        "id": "YPmai1gLEnvT",
        "colab": {
          "base_uri": "https://localhost:8080/",
          "height": 258
        },
        "outputId": "81527253-5bcc-4fdb-91b8-63a20b52e691"
      },
      "source": [
        "# Model Prediction\n",
        "\n",
        "image = cv2.imread('/content/drive/My Drive/Dataset/val/COVID+/7AF6C1AF-D249-4BD2-8C26-449304105D03.jpeg')\n",
        "#image = cv2.cvtColor(image,cv2.COLOR_BGR2RGB)\n",
        "image = cv2.resize(image, (224, 224))\n",
        "img=np.reshape(image,(1,224,224,3))\n",
        "cv2_imshow(image)\n",
        "prediction=model.predict(img)\n",
        "print(class_names[np.argmax(prediction)])\n"
      ],
      "execution_count": null,
      "outputs": [
        {
          "output_type": "display_data",
          "data": {
            "text/plain": [
              "<PIL.Image.Image image mode=RGB size=224x224 at 0x7FBCEEB73AD0>"
            ],
            "image/png": "[encoded data removed]"
          },
          "metadata": {}
        },
        {
          "output_type": "stream",
          "name": "stdout",
          "text": [
            "Covid\n"
          ]
        }
      ]
    },
    {
      "cell_type": "code",
      "source": [
        "# Saving the Model\n",
        "\n",
        "model.save('Covid19Detector.h5') "
      ],
      "metadata": {
        "id": "SxHUjuZNi62c"
      },
      "execution_count": null,
      "outputs": []
    }
  ]
}